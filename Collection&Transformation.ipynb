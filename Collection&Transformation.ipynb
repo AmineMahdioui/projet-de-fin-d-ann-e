{
 "cells": [
  {
   "cell_type": "code",
   "execution_count": 1,
   "metadata": {},
   "outputs": [],
   "source": [
    "import numpy as np \n",
    "import seaborn as sns\n",
    "import pandas as pd \n",
    "pd.options.plotting.backend = \"plotly\"\n",
    "import plotly.graph_objects as go\n",
    "import plotly.express as px\n",
    "import yfinance as yf\n",
    "import quandl\n",
    "from fredapi import Fred\n",
    "\n",
    "pd.set_option(\"display.max_rows\",200)\n",
    "sns.set(rc={'figure.figsize':(16,10)})\n",
    "fred_key = \"df4910b2cad947d95cf6ab16ba11d74d\"\n",
    "fred = Fred(api_key = fred_key)\n",
    "quandl.ApiConfig.api_key = 'Qq5R29Xiqp2yUbb9dzNq'"
   ]
  },
  {
   "attachments": {},
   "cell_type": "markdown",
   "metadata": {},
   "source": [
    "# geting the macroeconomics code and there transformations"
   ]
  },
  {
   "cell_type": "code",
   "execution_count": 2,
   "metadata": {},
   "outputs": [],
   "source": [
    "MacroCode=pd.read_csv(r'Data\\Macro Variables.csv')\n",
    "MacroCode.replace({'Average HOUST':'HOUST','S&P 500':'SP500'},inplace=True)"
   ]
  },
  {
   "cell_type": "code",
   "execution_count": 3,
   "metadata": {},
   "outputs": [
    {
     "name": "stdout",
     "output_type": "stream",
     "text": [
      "[*********************100%***********************]  1 of 1 completed\n",
      "\n",
      "1 Failed download:\n",
      "- ^SP500-20: No data found for this date range, symbol may be delisted\n"
     ]
    }
   ],
   "source": [
    "errors=[]\n",
    "indicators=[]\n",
    "\n",
    "for code in MacroCode['Variable']:\n",
    "    if not ('S&P' in code):\n",
    "        try:\n",
    "            indicators.append(fred.get_series(code).to_frame(code))\n",
    "        except ValueError:\n",
    "            errors.append(code)\n",
    "indicators.append(yf.download('^SP500-20')['Close'].to_frame('S&P: indust'))\n",
    "indicators.append(quandl.get(\"MULTPL/SP500_DIV_YIELD_MONTH\").squeeze().to_frame('S&P div yield'))\n",
    "indicators.append(quandl.get(\"MULTPL/SP500_PE_RATIO_MONTH\").squeeze().to_frame('S&P PE ratio'))\n"
   ]
  },
  {
   "cell_type": "code",
   "execution_count": 4,
   "metadata": {},
   "outputs": [],
   "source": [
    "if len(errors)>0:\n",
    "    raise Exception(\"Erorrs found\")\n",
    "data=pd.concat(indicators,axis=1).fillna(method='ffill')\n",
    "# data.to_csv('Data/HistoricalVariables.csv')\n"
   ]
  },
  {
   "attachments": {},
   "cell_type": "markdown",
   "metadata": {},
   "source": [
    "# Data transformation"
   ]
  },
  {
   "cell_type": "code",
   "execution_count": 5,
   "metadata": {},
   "outputs": [],
   "source": [
    "def deltaX(data):\n",
    "    return data.diff()\n",
    "\n",
    "def delta2X(data):\n",
    "    return data-2*data.shift(1)+data.shift(2)\n",
    "\n",
    "def logdata(data):\n",
    "    return np.log(data)\n",
    "\n",
    "def difflog(data):\n",
    "    return np.log(data).diff()\n",
    "\n",
    "def difflog2(data):\n",
    "    return np.log(data)-2*np.log(data.shift(1))+np.log(data.shift(2))\n",
    "\n",
    "def diffpercent(data):\n",
    "    return (data/data.shift() - 1) - (data.shift()/data.shift(2) - 1)\n",
    "\n",
    "\n",
    "\n",
    "transformation={1:(lambda x: x),\n",
    "                2:deltaX,\n",
    "                3:delta2X,\n",
    "                4:logdata,\n",
    "                5:difflog,\n",
    "                6:difflog2,\n",
    "                7:diffpercent,\n",
    "                }"
   ]
  },
  {
   "cell_type": "code",
   "execution_count": 6,
   "metadata": {},
   "outputs": [],
   "source": [
    "df_transformed=pd.DataFrame()"
   ]
  },
  {
   "cell_type": "code",
   "execution_count": 7,
   "metadata": {},
   "outputs": [],
   "source": [
    "for column in data.columns:\n",
    "    type=MacroCode[MacroCode['Variable'] == column]['Transformation'].iloc[0]\n",
    "    df_transformed[column]=transformation[type](data[column])\n",
    "    df_transformed=df_transformed.copy()"
   ]
  }
 ],
 "metadata": {
  "kernelspec": {
   "display_name": ".venv",
   "language": "python",
   "name": "python3"
  },
  "language_info": {
   "codemirror_mode": {
    "name": "ipython",
    "version": 3
   },
   "file_extension": ".py",
   "mimetype": "text/x-python",
   "name": "python",
   "nbconvert_exporter": "python",
   "pygments_lexer": "ipython3",
   "version": "3.10.6"
  },
  "orig_nbformat": 4
 },
 "nbformat": 4,
 "nbformat_minor": 2
}
