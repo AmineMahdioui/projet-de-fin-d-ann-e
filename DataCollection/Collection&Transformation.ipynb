{
 "cells": [
  {
   "cell_type": "code",
   "execution_count": 1,
   "metadata": {},
   "outputs": [],
   "source": [
    "import numpy as np \n",
    "import seaborn as sns\n",
    "import pandas as pd \n",
    "pd.options.plotting.backend = \"plotly\"\n",
    "import plotly.graph_objects as go\n",
    "import plotly.express as px\n",
    "import yfinance as yf\n",
    "import quandl\n",
    "from fredapi import Fred\n",
    "\n",
    "pd.set_option(\"display.max_rows\",200)\n",
    "sns.set(rc={'figure.figsize':(16,10)})\n",
    "fred_key = \"df4910b2cad947d95cf6ab16ba11d74d\"\n",
    "fred = Fred(api_key = fred_key)\n",
    "quandl.ApiConfig.api_key = 'Qq5R29Xiqp2yUbb9dzNq'"
   ]
  },
  {
   "attachments": {},
   "cell_type": "markdown",
   "metadata": {},
   "source": [
    "# geting the macroeconomics code and there transformations"
   ]
  },
  {
   "cell_type": "code",
   "execution_count": 42,
   "metadata": {},
   "outputs": [],
   "source": [
    "MacroCode=pd.read_csv(r'..\\Data\\Macro Variables.csv')\n",
    "MacroCode.replace({'Average HOUST':'HOUST','S&P 500':'SP500'},inplace=True)"
   ]
  },
  {
   "cell_type": "code",
   "execution_count": 21,
   "metadata": {},
   "outputs": [],
   "source": [
    "import requests\n",
    "\n",
    "def varialbe_name(variable_id):\n",
    "    # FRED API base URL\n",
    "\n",
    "    # FRED API key (replace with your own key)\n",
    "    api_key = \"df4910b2cad947d95cf6ab16ba11d74d\"\n",
    "\n",
    "    # Endpoint URL to get variable details\n",
    "    url = f\"https://api.stlouisfed.org/fred/series?series_id={variable_id}&api_key={api_key}&file_type=json\"\n",
    "\n",
    "    response = requests.get(url)\n",
    "    response_json = response.json()\n",
    "    try:\n",
    "        name=response_json['seriess'][0]['title']\n",
    "    except Exception:\n",
    "        name='N/a'\n",
    "    return name\n"
   ]
  },
  {
   "cell_type": "code",
   "execution_count": 43,
   "metadata": {},
   "outputs": [],
   "source": [
    "MacroCode['Description']=MacroCode['Variable'].apply(varialbe_name)\n",
    "\n",
    "MacroCode['Variable']=MacroCode['Variable'].apply(lambda x: \"\\\\textbf{\"+f\"{x}\"+\"}\")"
   ]
  },
  {
   "cell_type": "code",
   "execution_count": 51,
   "metadata": {},
   "outputs": [],
   "source": [
    "MacroCode[['Variable','Description', 'Transformation']].to_clipboard()"
   ]
  },
  {
   "cell_type": "code",
   "execution_count": 3,
   "metadata": {},
   "outputs": [
    {
     "name": "stdout",
     "output_type": "stream",
     "text": [
      "[*********************100%***********************]  1 of 1 completed\n"
     ]
    }
   ],
   "source": [
    "errors=[]\n",
    "indicators={}\n",
    "freq={}\n",
    "for code in MacroCode['Variable']:\n",
    "    if not ('S&P' in code):\n",
    "        try:\n",
    "            col=fred.get_series(code).to_frame(code).squeeze()\n",
    "            if code == 'CPFF':\n",
    "                indicators[code]=(col) #('MS').last()\n",
    "            elif code == \"ICSA\":\n",
    "                indicators[code]=(col) #('MS').sum()\n",
    "            elif code == \"SP500\":\n",
    "                indicators[code]=(col) #('MS').first()\n",
    "            else:\n",
    "                indicators[code]=(col) #  #('M').interpolate()\n",
    "        except ValueError:\n",
    "            errors.append(code)\n",
    "indicators['S&P: indust']=(yf.download('^SP500-20')['Close'].to_frame('S&P: indust').squeeze()) #(\"MS\").last()\n",
    "indicators['S&P div yield']=(quandl.get(\"MULTPL/SP500_DIV_YIELD_MONTH\").squeeze().to_frame('S&P div yield').squeeze()) #(\"MS\").last()\n",
    "indicators['S&P PE ratio']=(quandl.get(\"MULTPL/SP500_PE_RATIO_MONTH\").squeeze().to_frame('S&P PE ratio').squeeze()) #(\"MS\").first()\n"
   ]
  },
  {
   "cell_type": "code",
   "execution_count": 4,
   "metadata": {},
   "outputs": [
    {
     "name": "stdout",
     "output_type": "stream",
     "text": [
      "(13703, 124)\n"
     ]
    },
    {
     "data": {
      "text/plain": [
       "S&P PE ratio       0.000000\n",
       "S&P div yield      0.000073\n",
       "AMBSL              0.082318\n",
       "BAA                0.084069\n",
       "AAA                0.084069\n",
       "INDPRO             0.084069\n",
       "IPMANSICS          0.084069\n",
       "TB3MS              0.110341\n",
       "USCONS             0.119098\n",
       "MANEMP             0.119098\n",
       "DMANEMP            0.119098\n",
       "NDMANEMP           0.119098\n",
       "SRVPRD             0.119098\n",
       "USTRADE            0.119098\n",
       "USWTRADE           0.119098\n",
       "USGOOD             0.119098\n",
       "USFIRE             0.119098\n",
       "USGOVT             0.119098\n",
       "CES3000000008      0.119098\n",
       "USTPU              0.119098\n",
       "PAYEMS             0.119098\n",
       "AWHMAN             0.119098\n",
       "IPMAT              0.119098\n",
       "IPCONGD            0.119098\n",
       "IPFPNSS            0.119098\n",
       "IPFINAL            0.119098\n",
       "DTCTHFNM           0.126104\n",
       "DTCOLNVHFNM        0.126104\n",
       "TOTALSL            0.126104\n",
       "NONREVSL           0.126104\n",
       "WTISPLC            0.131358\n",
       "CES0600000007      0.133110\n",
       "CES2000000008      0.133110\n",
       "IPDCONGD           0.133110\n",
       "CES0600000008      0.133110\n",
       "CPITRNSL           0.133110\n",
       "CPIMEDSL           0.133110\n",
       "CPIAPPSL           0.133110\n",
       "IPNCONGD           0.133110\n",
       "CUSR0000SA0L2      0.133110\n",
       "CPIULFSL           0.133110\n",
       "IPDMAT             0.133110\n",
       "CPIAUCSL           0.133110\n",
       "PPICMM             0.133110\n",
       "BUSLOANS           0.133110\n",
       "REALLN             0.133110\n",
       "INVEST             0.133110\n",
       "IPBUSEQ            0.133110\n",
       "WPSID62            0.133547\n",
       "WPSID61            0.133547\n",
       "WPSFD49502         0.133547\n",
       "WPSFD49207         0.133547\n",
       "UNRATE             0.134861\n",
       "UEMPMEAN           0.134861\n",
       "UEMP27OV           0.134861\n",
       "UEMP15T26          0.134861\n",
       "CE16OV             0.134861\n",
       "CLF16OV            0.134861\n",
       "UEMP15OV           0.134861\n",
       "CUMFNS             0.134861\n",
       "UEMPLT5            0.134861\n",
       "UEMP5TO14          0.134861\n",
       "UMCSENT            0.143326\n",
       "GS5                0.144056\n",
       "GS10               0.144056\n",
       "GS1                0.144056\n",
       "IPNMAT             0.145370\n",
       "IPB51222S          0.145370\n",
       "IPFUELS            0.145370\n",
       "TB3SMFFM           0.146245\n",
       "T1YFFM             0.146245\n",
       "T5YFFM             0.146245\n",
       "T10YFFM            0.146245\n",
       "FEDFUNDS           0.146245\n",
       "AAAFFM             0.146245\n",
       "BAAFFM             0.146245\n",
       "CUSR0000SAS        0.148873\n",
       "AWOTMAN            0.148873\n",
       "CUSR0000SAC        0.148873\n",
       "CUSR0000SAD        0.148873\n",
       "CUSR0000SA0L5      0.150624\n",
       "CES1021000001      0.152375\n",
       "TB6SMFFM           0.153981\n",
       "TB6MS              0.153981\n",
       "MZMSL              0.154127\n",
       "DSERRG3M086SBEA    0.154127\n",
       "DNDGRG3M086SBEA    0.154127\n",
       "DDURRG3M086SBEA    0.154127\n",
       "PCEPI              0.154127\n",
       "RPI                0.154127\n",
       "M1SL               0.154127\n",
       "W875RX1            0.154127\n",
       "DPCERA3M086SBEA    0.154127\n",
       "HOUST              0.154127\n",
       "HOUSTNE            0.154127\n",
       "HOUSTMW            0.154127\n",
       "NONBORRES          0.154127\n",
       "TOTRESNS           0.154127\n",
       "M2REAL             0.154127\n",
       "M2SL               0.154127\n",
       "HOUSTS             0.154127\n",
       "HOUSTW             0.154127\n",
       "PERMIT             0.155878\n",
       "PERMITNE           0.155878\n",
       "PERMITMW           0.155878\n",
       "PERMITS            0.155878\n",
       "PERMITW            0.155878\n",
       "CMRMTSPL           0.168138\n",
       "ICSA               0.168211\n",
       "EXJPUS             0.189302\n",
       "EXUSUK             0.189302\n",
       "EXCAUS             0.189302\n",
       "EXSZUS             0.189302\n",
       "TWEXMMTH           0.200029\n",
       "ISRATIO            0.300810\n",
       "BUSINV             0.300810\n",
       "RSXFS              0.300810\n",
       "AMDMUO             0.300810\n",
       "NEWORDER           0.301248\n",
       "DGORDER            0.301248\n",
       "ACOGNO             0.301248\n",
       "S&P: indust        0.307962\n",
       "CPFF               0.390717\n",
       "SP500              0.768883\n",
       "dtype: float64"
      ]
     },
     "execution_count": 4,
     "metadata": {},
     "output_type": "execute_result"
    }
   ],
   "source": [
    "if len(errors)>0:\n",
    "    raise Exception(\"Erorrs found\")\n",
    "data=pd.concat(indicators,axis=1).copy().fillna(method='ffill') #.loc[\"1971\":].dropna(how='all').fillna(method='ffill')\n",
    "# data.to_csv('Data/HistoricalVariables.csv')\n",
    "print(data.shape)\n",
    "data.isna().sum().sort_values()/data.shape[0]"
   ]
  },
  {
   "cell_type": "code",
   "execution_count": 5,
   "metadata": {},
   "outputs": [],
   "source": [
    "# data.to_csv('..\\Data\\HistoricalVariables.csv')\n"
   ]
  },
  {
   "attachments": {},
   "cell_type": "markdown",
   "metadata": {},
   "source": [
    "# Data transformation"
   ]
  },
  {
   "cell_type": "code",
   "execution_count": 6,
   "metadata": {},
   "outputs": [],
   "source": [
    "def deltaX(data):\n",
    "    return data.diff()\n",
    "\n",
    "def delta2X(data):\n",
    "    return data-2*data.shift(1)+data.shift(2)\n",
    "\n",
    "def logdata(data):\n",
    "    return np.log(data)\n",
    "\n",
    "def difflog(data):\n",
    "    return np.log(data).diff()\n",
    "\n",
    "def difflog2(data):\n",
    "    return np.log(data)-2*np.log(data.shift(1))+np.log(data.shift(2))\n",
    "\n",
    "def diffpercent(data):\n",
    "    return (data/data.shift() - 1) - (data.shift()/data.shift(2) - 1)\n",
    "\n",
    "\n",
    "\n",
    "transformation={1:(lambda x: x),\n",
    "                2:deltaX,\n",
    "                3:delta2X,\n",
    "                4:logdata,\n",
    "                5:difflog,\n",
    "                6:difflog2,\n",
    "                7:diffpercent,\n",
    "                }"
   ]
  },
  {
   "cell_type": "code",
   "execution_count": 7,
   "metadata": {},
   "outputs": [],
   "source": [
    "df_transformed=pd.DataFrame()"
   ]
  },
  {
   "cell_type": "code",
   "execution_count": 8,
   "metadata": {},
   "outputs": [],
   "source": [
    "for column in data.columns:\n",
    "    type=MacroCode[MacroCode['Variable'] == column]['Transformation'].iloc[0]\n",
    "    df_transformed[column]=transformation[type](data[column])\n",
    "    df_transformed=df_transformed.copy()"
   ]
  },
  {
   "cell_type": "code",
   "execution_count": null,
   "metadata": {},
   "outputs": [],
   "source": [
    "df_transformed.to_csv('../Data/Transformed HistoricalVariables.csv')\n"
   ]
  }
 ],
 "metadata": {
  "kernelspec": {
   "display_name": ".venv",
   "language": "python",
   "name": "python3"
  },
  "language_info": {
   "codemirror_mode": {
    "name": "ipython",
    "version": 3
   },
   "file_extension": ".py",
   "mimetype": "text/x-python",
   "name": "python",
   "nbconvert_exporter": "python",
   "pygments_lexer": "ipython3",
   "version": "3.10.6"
  },
  "orig_nbformat": 4
 },
 "nbformat": 4,
 "nbformat_minor": 2
}
