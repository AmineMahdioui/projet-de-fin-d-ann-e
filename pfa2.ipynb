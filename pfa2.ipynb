{
 "cells": [
  {
   "cell_type": "code",
   "execution_count": 1,
   "metadata": {},
   "outputs": [],
   "source": [
    "from sklearn.ensemble import GradientBoostingClassifier\n",
    "from sklearn.model_selection import train_test_split\n",
    "import numpy as np\n",
    "import pandas as pd\n",
    "from fredapi import Fred"
   ]
  },
  {
   "cell_type": "code",
   "execution_count": 2,
   "metadata": {},
   "outputs": [],
   "source": [
    "fred = Fred(api_key='6cc00d6dd7a79e8de471491dc74cc1fe')\n",
    "nber=fred.get_series('USREC')"
   ]
  },
  {
   "cell_type": "code",
   "execution_count": 3,
   "metadata": {},
   "outputs": [],
   "source": [
    "\n",
    "df=pd.read_csv('Data\\Transformed HistoricalVariables.csv',index_col=0)\n",
    "df['target']=nber\n",
    "df['target'].fillna(method='ffill',inplace=True)\n",
    "df.drop(index='2023-04-30',inplace=True)\n",
    "df=df.fillna(0)"
   ]
  },
  {
   "cell_type": "code",
   "execution_count": 4,
   "metadata": {},
   "outputs": [],
   "source": [
    "df_train=df[:10000]\n",
    "df_test=df[10000:]"
   ]
  },
  {
   "cell_type": "code",
   "execution_count": 5,
   "metadata": {},
   "outputs": [],
   "source": [
    "var_columns = [col for col in df_train.columns if col not in ['target']]\n",
    "\n",
    "x= df_train.loc[:,var_columns]\n",
    "y = df_train.loc[:,'target']"
   ]
  },
  {
   "cell_type": "code",
   "execution_count": 6,
   "metadata": {},
   "outputs": [],
   "source": [
    "X_train,X_test,Y_train,Y_test=train_test_split(x,y,test_size=0.2,random_state=42)\n"
   ]
  },
  {
   "cell_type": "code",
   "execution_count": 8,
   "metadata": {},
   "outputs": [
    {
     "name": "stdout",
     "output_type": "stream",
     "text": [
      "Learning rate:  0.05\n",
      "Accuracy score (training): 0.941\n",
      "Accuracy score (validation): 0.923\n",
      "Learning rate:  0.075\n",
      "Accuracy score (training): 0.941\n",
      "Accuracy score (validation): 0.921\n",
      "Learning rate:  0.1\n",
      "Accuracy score (training): 0.941\n",
      "Accuracy score (validation): 0.920\n",
      "Learning rate:  0.25\n",
      "Accuracy score (training): 0.942\n",
      "Accuracy score (validation): 0.922\n",
      "Learning rate:  0.5\n",
      "Accuracy score (training): 0.944\n",
      "Accuracy score (validation): 0.914\n",
      "Learning rate:  0.75\n",
      "Accuracy score (training): 0.929\n",
      "Accuracy score (validation): 0.911\n",
      "Learning rate:  1\n",
      "Accuracy score (training): 0.916\n",
      "Accuracy score (validation): 0.897\n"
     ]
    }
   ],
   "source": [
    "lr_list = [0.05, 0.075, 0.1, 0.25, 0.5, 0.75, 1]\n",
    "for learning_rate in lr_list:\n",
    "    model_gbm = GradientBoostingClassifier(n_estimators=5000,\n",
    "                                        learning_rate=learning_rate,\n",
    "                                        max_depth=3,\n",
    "                                        subsample=0.5,\n",
    "                                        validation_fraction=0.1,\n",
    "                                        n_iter_no_change=20,\n",
    "                                        max_features='log2',\n",
    "                                        verbose=0)\n",
    "    model_gbm.fit(X_train, Y_train)\n",
    "\n",
    "    print(\"Learning rate: \", learning_rate)\n",
    "    print(\"Accuracy score (training): {0:.3f}\".format(model_gbm.score(X_train, Y_train)))\n",
    "    print(\"Accuracy score (validation): {0:.3f}\".format(model_gbm.score(X_test, Y_test)))"
   ]
  },
  {
   "cell_type": "code",
   "execution_count": 9,
   "metadata": {},
   "outputs": [
    {
     "data": {
      "text/plain": [
       "0.4787234042553192"
      ]
     },
     "execution_count": 9,
     "metadata": {},
     "output_type": "execute_result"
    }
   ],
   "source": [
    "from sklearn.metrics import f1_score\n",
    "results=pd.DataFrame()\n",
    "results['actual']=df[df.columns[-1]]\n",
    "results['pred']=model_gbm.predict(df[df.columns[:-1]])\n",
    "\n",
    "dfff=results.iloc[10000:]\n",
    "\n",
    "f1_score(dfff['actual'], dfff['pred'])"
   ]
  },
  {
   "cell_type": "code",
   "execution_count": 10,
   "metadata": {},
   "outputs": [],
   "source": [
    "import matplotlib.pyplot as plt"
   ]
  },
  {
   "cell_type": "code",
   "execution_count": 16,
   "metadata": {},
   "outputs": [
    {
     "data": {
      "text/plain": [
       "<Axes: >"
      ]
     },
     "execution_count": 16,
     "metadata": {},
     "output_type": "execute_result"
    },
    {
     "data": {
      "image/png": "[encoded data removed]",
      "text/plain": [
       "<Figure size 1000x600 with 1 Axes>"
      ]
     },
     "metadata": {},
     "output_type": "display_data"
    }
   ],
   "source": [
    "results=pd.DataFrame()\n",
    "results['actual']=df[df.columns[-1]]\n",
    "results['pred']=model_gbm.predict(df[df.columns[:-1]])\n",
    "results.loc['2000':].plot(figsize=(10,6))\n"
   ]
  },
  {
   "cell_type": "code",
   "execution_count": 12,
   "metadata": {},
   "outputs": [],
   "source": [
    "from sklearn.metrics import classification_report, confusion_matrix"
   ]
  },
  {
   "cell_type": "code",
   "execution_count": 13,
   "metadata": {},
   "outputs": [],
   "source": [
    "model_gbm2 = GradientBoostingClassifier(n_estimators=5000,\n",
    "                                        learning_rate=0.075,\n",
    "                                        max_depth=3,\n",
    "                                        subsample=0.5,\n",
    "                                        validation_fraction=0.1,\n",
    "                                        n_iter_no_change=20,\n",
    "                                        max_features='log2',\n",
    "                                        verbose=0)\n",
    "model_gbm2.fit(X_train, Y_train)\n",
    "prediction=model_gbm2.predict(df[df.columns[:-1]])\n"
   ]
  },
  {
   "cell_type": "code",
   "execution_count": 14,
   "metadata": {},
   "outputs": [
    {
     "name": "stdout",
     "output_type": "stream",
     "text": [
      "Classification Report\n",
      "              precision    recall  f1-score   support\n",
      "\n",
      "         0.0       0.96      0.99      0.97     11744\n",
      "         1.0       0.90      0.75      0.81      1919\n",
      "\n",
      "    accuracy                           0.95     13663\n",
      "   macro avg       0.93      0.87      0.89     13663\n",
      "weighted avg       0.95      0.95      0.95     13663\n",
      "\n"
     ]
    }
   ],
   "source": [
    "print(\"Classification Report\")\n",
    "print(classification_report(df[df.columns[-1]], prediction))"
   ]
  }
 ],
 "metadata": {
  "kernelspec": {
   "display_name": ".venv",
   "language": "python",
   "name": "python3"
  },
  "language_info": {
   "codemirror_mode": {
    "name": "ipython",
    "version": 3
   },
   "file_extension": ".py",
   "mimetype": "text/x-python",
   "name": "python",
   "nbconvert_exporter": "python",
   "pygments_lexer": "ipython3",
   "version": "3.10.2"
  },
  "orig_nbformat": 4,
  "vscode": {
   "interpreter": {
    "hash": "0036100a00f2fe05ead9be5f979ea2b0614589fb38ad418a9fe0e4ac1caa9f29"
   }
  }
 },
 "nbformat": 4,
 "nbformat_minor": 2
}
