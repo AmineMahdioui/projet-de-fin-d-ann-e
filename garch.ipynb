{
 "cells": [
  {
   "cell_type": "code",
   "execution_count": 14,
   "metadata": {},
   "outputs": [
    {
     "name": "stdout",
     "output_type": "stream",
     "text": [
      "Requirement already satisfied: statsmodels in c:\\users\\admin\\documents\\github\\projet-de-fin-d-annee\\.venv\\lib\\site-packages (0.13.5)Note: you may need to restart the kernel to use updated packages.\n",
      "\n",
      "Requirement already satisfied: numpy>=1.22.3 in c:\\users\\admin\\documents\\github\\projet-de-fin-d-annee\\.venv\\lib\\site-packages (from statsmodels) (1.24.2)\n",
      "Requirement already satisfied: patsy>=0.5.2 in c:\\users\\admin\\documents\\github\\projet-de-fin-d-annee\\.venv\\lib\\site-packages (from statsmodels) (0.5.3)\n",
      "Requirement already satisfied: pandas>=0.25 in c:\\users\\admin\\documents\\github\\projet-de-fin-d-annee\\.venv\\lib\\site-packages (from statsmodels) (1.5.3)\n",
      "Requirement already satisfied: scipy>=1.3 in c:\\users\\admin\\documents\\github\\projet-de-fin-d-annee\\.venv\\lib\\site-packages (from statsmodels) (1.10.1)\n",
      "Requirement already satisfied: packaging>=21.3 in c:\\users\\admin\\documents\\github\\projet-de-fin-d-annee\\.venv\\lib\\site-packages (from statsmodels) (23.0)\n",
      "Requirement already satisfied: pytz>=2020.1 in c:\\users\\admin\\documents\\github\\projet-de-fin-d-annee\\.venv\\lib\\site-packages (from pandas>=0.25->statsmodels) (2022.7.1)\n",
      "Requirement already satisfied: python-dateutil>=2.8.1 in c:\\users\\admin\\documents\\github\\projet-de-fin-d-annee\\.venv\\lib\\site-packages (from pandas>=0.25->statsmodels) (2.8.2)\n",
      "Requirement already satisfied: six in c:\\users\\admin\\documents\\github\\projet-de-fin-d-annee\\.venv\\lib\\site-packages (from patsy>=0.5.2->statsmodels) (1.16.0)\n"
     ]
    },
    {
     "name": "stderr",
     "output_type": "stream",
     "text": [
      "\n",
      "[notice] A new release of pip is available: 23.0.1 -> 23.1\n",
      "[notice] To update, run: python.exe -m pip install --upgrade pip\n"
     ]
    }
   ],
   "source": [
    "%pip install statsmodels\n"
   ]
  },
  {
   "cell_type": "code",
   "execution_count": 3,
   "metadata": {},
   "outputs": [],
   "source": [
    "import pandas as pd\n",
    "import numpy as np\n",
    "from arch import arch_model\n",
    "from fredapi import Fred"
   ]
  },
  {
   "cell_type": "code",
   "execution_count": 30,
   "metadata": {},
   "outputs": [
    {
     "data": {
      "text/plain": [
       "1854-12-01    1.0\n",
       "1855-01-01    0.0\n",
       "1855-02-01    0.0\n",
       "1855-03-01    0.0\n",
       "1855-04-01    0.0\n",
       "             ... \n",
       "2022-11-01    0.0\n",
       "2022-12-01    0.0\n",
       "2023-01-01    0.0\n",
       "2023-02-01    0.0\n",
       "2023-03-01    0.0\n",
       "Length: 2020, dtype: float64"
      ]
     },
     "execution_count": 30,
     "metadata": {},
     "output_type": "execute_result"
    }
   ],
   "source": [
    "fred = Fred(api_key='6cc00d6dd7a79e8de471491dc74cc1fe')\n",
    "df=fred.get_series('USREC')\n",
    "df"
   ]
  },
  {
   "cell_type": "code",
   "execution_count": 8,
   "metadata": {},
   "outputs": [],
   "source": [
    "model = arch_model(df, mean=\"constant\", vol=\"GARCH\", p=1, q=1)\n"
   ]
  },
  {
   "cell_type": "code",
   "execution_count": 9,
   "metadata": {},
   "outputs": [
    {
     "name": "stdout",
     "output_type": "stream",
     "text": [
      "Iteration:      1,   Func. Count:      6,   Neg. LLF: 21426350720303.88\n",
      "Iteration:      2,   Func. Count:     19,   Neg. LLF: 271512.14996703813\n",
      "Iteration:      3,   Func. Count:     29,   Neg. LLF: 12462.278561662893\n",
      "Iteration:      4,   Func. Count:     35,   Neg. LLF: 227.76766320978254\n",
      "Iteration:      5,   Func. Count:     40,   Neg. LLF: 282.43102070439414\n",
      "Iteration:      6,   Func. Count:     46,   Neg. LLF: 9028.844704082114\n",
      "Iteration:      7,   Func. Count:     52,   Neg. LLF: 118.71872894144434\n",
      "Iteration:      8,   Func. Count:     57,   Neg. LLF: 118.70581929297947\n",
      "Iteration:      9,   Func. Count:     62,   Neg. LLF: 118.70097377527054\n",
      "Iteration:     10,   Func. Count:     67,   Neg. LLF: 118.68322289603122\n",
      "Iteration:     11,   Func. Count:     72,   Neg. LLF: 118.67511080160858\n",
      "Iteration:     12,   Func. Count:     77,   Neg. LLF: 118.67275088680759\n",
      "Iteration:     13,   Func. Count:     82,   Neg. LLF: 118.67260951625275\n",
      "Iteration:     14,   Func. Count:     87,   Neg. LLF: 2865.6012080825103\n",
      "Iteration:     15,   Func. Count:     98,   Neg. LLF: 1652.5905898089495\n",
      "Iteration:     16,   Func. Count:    108,   Neg. LLF: 118.74194115837503\n",
      "Optimization terminated successfully    (Exit mode 0)\n",
      "            Current function value: 118.6726067250429\n",
      "            Iterations: 17\n",
      "            Function evaluations: 111\n",
      "            Gradient evaluations: 16\n"
     ]
    }
   ],
   "source": [
    "results = model.fit()"
   ]
  },
  {
   "cell_type": "code",
   "execution_count": 10,
   "metadata": {},
   "outputs": [
    {
     "name": "stdout",
     "output_type": "stream",
     "text": [
      "                     Constant Mean - GARCH Model Results                      \n",
      "==============================================================================\n",
      "Dep. Variable:                   None   R-squared:                       0.000\n",
      "Mean Model:             Constant Mean   Adj. R-squared:                  0.000\n",
      "Vol Model:                      GARCH   Log-Likelihood:               -118.673\n",
      "Distribution:                  Normal   AIC:                           245.345\n",
      "Method:            Maximum Likelihood   BIC:                           267.789\n",
      "                                        No. Observations:                 2020\n",
      "Date:                Wed, Apr 19 2023   Df Residuals:                     2019\n",
      "Time:                        01:06:16   Df Model:                            1\n",
      "                                 Mean Model                                 \n",
      "============================================================================\n",
      "                 coef    std err          t      P>|t|      95.0% Conf. Int.\n",
      "----------------------------------------------------------------------------\n",
      "mu             0.0333  5.365e-03      6.208  5.380e-10 [2.279e-02,4.382e-02]\n",
      "                               Volatility Model                              \n",
      "=============================================================================\n",
      "                 coef    std err          t      P>|t|       95.0% Conf. Int.\n",
      "-----------------------------------------------------------------------------\n",
      "omega          0.0221  3.520e-03      6.287  3.234e-10  [1.523e-02,2.903e-02]\n",
      "alpha[1]       0.9228  2.098e-02     43.980      0.000      [  0.882,  0.964]\n",
      "beta[1]    3.3841e-10  7.040e-03  4.807e-08      1.000 [-1.380e-02,1.380e-02]\n",
      "=============================================================================\n",
      "\n",
      "Covariance estimator: robust\n"
     ]
    }
   ],
   "source": [
    "print(results.summary())"
   ]
  },
  {
   "cell_type": "code",
   "execution_count": 11,
   "metadata": {},
   "outputs": [
    {
     "name": "stderr",
     "output_type": "stream",
     "text": [
      "c:\\Users\\admin\\Documents\\GitHub\\projet-de-fin-d-annee\\.venv\\lib\\site-packages\\arch\\__future__\\_utility.py:11: FutureWarning: \n",
      "The default for reindex is True. After September 2021 this will change to\n",
      "False. Set reindex to True or False to silence this message. Alternatively,\n",
      "you can use the import comment\n",
      "\n",
      "from arch.__future__ import reindexing\n",
      "\n",
      "to globally set reindex to True and silence this warning.\n",
      "\n",
      "  warnings.warn(\n"
     ]
    }
   ],
   "source": [
    "forecasts = results.forecast(horizon=1)"
   ]
  },
  {
   "cell_type": "code",
   "execution_count": 12,
   "metadata": {},
   "outputs": [
    {
     "name": "stdout",
     "output_type": "stream",
     "text": [
      "Next-period forecast:  h.1    0.033303\n",
      "Name: 2023-03-01 00:00:00, dtype: float64\n"
     ]
    }
   ],
   "source": [
    "print(\"Next-period forecast: \", forecasts.mean.iloc[-1])"
   ]
  },
  {
   "cell_type": "code",
   "execution_count": 15,
   "metadata": {},
   "outputs": [],
   "source": [
    "from statsmodels.tsa.arima.model import ARIMA\n"
   ]
  },
  {
   "cell_type": "code",
   "execution_count": 31,
   "metadata": {},
   "outputs": [],
   "source": [
    "train_data = df.iloc[:1500]\n",
    "test_data = df.iloc[1500:]"
   ]
  },
  {
   "cell_type": "code",
   "execution_count": 32,
   "metadata": {},
   "outputs": [
    {
     "name": "stderr",
     "output_type": "stream",
     "text": [
      "c:\\Users\\admin\\Documents\\GitHub\\projet-de-fin-d-annee\\.venv\\lib\\site-packages\\statsmodels\\tsa\\base\\tsa_model.py:471: ValueWarning: No frequency information was provided, so inferred frequency MS will be used.\n",
      "  self._init_dates(dates, freq)\n",
      "c:\\Users\\admin\\Documents\\GitHub\\projet-de-fin-d-annee\\.venv\\lib\\site-packages\\statsmodels\\tsa\\base\\tsa_model.py:471: ValueWarning: No frequency information was provided, so inferred frequency MS will be used.\n",
      "  self._init_dates(dates, freq)\n",
      "c:\\Users\\admin\\Documents\\GitHub\\projet-de-fin-d-annee\\.venv\\lib\\site-packages\\statsmodels\\tsa\\base\\tsa_model.py:471: ValueWarning: No frequency information was provided, so inferred frequency MS will be used.\n",
      "  self._init_dates(dates, freq)\n"
     ]
    }
   ],
   "source": [
    "model1 = ARIMA(train_data, order=(1,1,1))"
   ]
  },
  {
   "cell_type": "code",
   "execution_count": 33,
   "metadata": {},
   "outputs": [],
   "source": [
    "results1 = model.fit()"
   ]
  },
  {
   "cell_type": "code",
   "execution_count": 35,
   "metadata": {},
   "outputs": [
    {
     "name": "stdout",
     "output_type": "stream",
     "text": [
      "                               SARIMAX Results                                \n",
      "==============================================================================\n",
      "Dep. Variable:                      y   No. Observations:                 2008\n",
      "Model:                 ARIMA(1, 1, 1)   Log Likelihood                 534.276\n",
      "Date:                Wed, 19 Apr 2023   AIC                          -1062.552\n",
      "Time:                        01:51:26   BIC                          -1045.739\n",
      "Sample:                    12-01-1854   HQIC                         -1056.380\n",
      "                         - 03-01-2022                                         \n",
      "Covariance Type:                  opg                                         \n",
      "==============================================================================\n",
      "                 coef    std err          z      P>|z|      [0.025      0.975]\n",
      "------------------------------------------------------------------------------\n",
      "ar.L1       1.074e-07   2.31e-14   4.65e+06      0.000    1.07e-07    1.07e-07\n",
      "ma.L1      -1.044e-07    2.4e-14  -4.35e+06      0.000   -1.04e-07   -1.04e-07\n",
      "sigma2         0.0344      0.000    118.712      0.000       0.034       0.035\n",
      "===================================================================================\n",
      "Ljung-Box (L1) (Q):                   0.00   Jarque-Bera (JB):             56909.26\n",
      "Prob(Q):                              1.00   Prob(JB):                         0.00\n",
      "Heteroskedasticity (H):               0.57   Skew:                            -0.07\n",
      "Prob(H) (two-sided):                  0.00   Kurtosis:                        29.09\n",
      "===================================================================================\n",
      "\n",
      "Warnings:\n",
      "[1] Covariance matrix calculated using the outer product of gradients (complex-step).\n",
      "[2] Covariance matrix is singular or near-singular, with condition number    inf. Standard errors may be unstable.\n"
     ]
    }
   ],
   "source": [
    "print(results1.summary())"
   ]
  },
  {
   "cell_type": "code",
   "execution_count": 36,
   "metadata": {},
   "outputs": [
    {
     "name": "stderr",
     "output_type": "stream",
     "text": [
      "c:\\Users\\admin\\Documents\\GitHub\\projet-de-fin-d-annee\\.venv\\lib\\site-packages\\arch\\__future__\\_utility.py:11: FutureWarning: \n",
      "The default for reindex is True. After September 2021 this will change to\n",
      "False. Set reindex to True or False to silence this message. Alternatively,\n",
      "you can use the import comment\n",
      "\n",
      "from arch.__future__ import reindexing\n",
      "\n",
      "to globally set reindex to True and silence this warning.\n",
      "\n",
      "  warnings.warn(\n"
     ]
    }
   ],
   "source": [
    "forecast = results.forecast()\n"
   ]
  },
  {
   "cell_type": "code",
   "execution_count": 39,
   "metadata": {},
   "outputs": [
    {
     "name": "stdout",
     "output_type": "stream",
     "text": [
      "Forecast for next 12 months:                   h.1\n",
      "1854-12-01       NaN\n",
      "1855-01-01       NaN\n",
      "1855-02-01       NaN\n",
      "1855-03-01       NaN\n",
      "1855-04-01       NaN\n",
      "...              ...\n",
      "2022-11-01       NaN\n",
      "2022-12-01       NaN\n",
      "2023-01-01       NaN\n",
      "2023-02-01       NaN\n",
      "2023-03-01  0.033303\n",
      "\n",
      "[2020 rows x 1 columns]\n"
     ]
    }
   ],
   "source": [
    "# Print forecast\n",
    "print(\"Forecast for next 12 months: \", forecast.mean)"
   ]
  }
 ],
 "metadata": {
  "kernelspec": {
   "display_name": ".venv",
   "language": "python",
   "name": "python3"
  },
  "language_info": {
   "codemirror_mode": {
    "name": "ipython",
    "version": 3
   },
   "file_extension": ".py",
   "mimetype": "text/x-python",
   "name": "python",
   "nbconvert_exporter": "python",
   "pygments_lexer": "ipython3",
   "version": "3.10.2"
  },
  "orig_nbformat": 4
 },
 "nbformat": 4,
 "nbformat_minor": 2
}
